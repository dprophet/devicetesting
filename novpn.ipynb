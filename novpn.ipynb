{
 "cells": [
  {
   "cell_type": "code",
   "execution_count": null,
   "id": "4b1ce341-cd0b-423b-bab9-f6e972f2c09c",
   "metadata": {},
   "outputs": [],
   "source": [
    "# Python imports\n",
    "from trino.dbapi import connect\n",
    "from trino.auth import JWTAuthentication\n",
    "import os\n",
    "import pandas as pd\n",
    "from client.device_auth import get_token\n",
    "import base64\n",
    "import hashlib\n",
    "from Crypto.Cipher import AES\n",
    "from Crypto.Util.Padding import unpad\n",
    "import getpass"
   ]
  },
  {
   "cell_type": "code",
   "execution_count": null,
   "id": "6e704432-b843-4194-bfb2-d663df4890dc",
   "metadata": {},
   "outputs": [],
   "source": [
    "def decrypt_openssl_aes256cbc_b64(ciphertext_b64: str,\n",
    "                                  password: str,\n",
    "                                  iterations: int = 69) -> bytes:\n",
    "    \"\"\"\n",
    "    Decrypts an OpenSSL-style salted, base64’d AES-256-CBC blob\n",
    "    that was encrypted with:\n",
    "       openssl enc -aes-256-cbc -a -salt -pbkdf2 -iter 69 -pass pass:<password>\n",
    "    \"\"\"\n",
    "    # 1) Base64 → raw\n",
    "    data = base64.b64decode(ciphertext_b64)\n",
    "    \n",
    "    # 2) Pull out the 8-byte OpenSSL header + 8-byte salt\n",
    "    if not data.startswith(b\"Salted__\"):\n",
    "        raise ValueError(\"Invalid data: missing 'Salted__' header\")\n",
    "    salt = data[8:16]\n",
    "    encrypted = data[16:]\n",
    "    \n",
    "    # 3) Derive key+iv with PBKDF2-HMAC-SHA256\n",
    "    #    total length = 32 bytes key + 16 bytes IV = 48\n",
    "    key_iv = hashlib.pbkdf2_hmac(\n",
    "        hash_name=\"sha256\",\n",
    "        password=password.encode(\"utf-8\"),\n",
    "        salt=salt,\n",
    "        iterations=iterations,\n",
    "        dklen=48\n",
    "    )\n",
    "    key, iv = key_iv[:32], key_iv[32:]\n",
    "    \n",
    "    # 4) AES-256-CBC decrypt + PKCS#7 unpad\n",
    "    cipher = AES.new(key, AES.MODE_CBC, iv)\n",
    "    padded = cipher.decrypt(encrypted)\n",
    "    return unpad(padded, AES.block_size)"
   ]
  },
  {
   "cell_type": "code",
   "execution_count": null,
   "id": "ed040f13-3b48-4827-8954-fecf408cdeb7",
   "metadata": {},
   "outputs": [],
   "source": [
    "key = getpass.getpass(prompt='DEC KEY: ')"
   ]
  },
  {
   "cell_type": "code",
   "execution_count": null,
   "id": "e5cf2ac2-3dcf-4f7d-ae26-6f58d1f3bc47",
   "metadata": {},
   "outputs": [],
   "source": [
    "url = decrypt_openssl_aes256cbc_b64(\"U2FsdGVkX19Ad+HyCor1IbWVS+wRdUii1vKMSoDUs0/isLBuQlEK1GaYu6jwVqTX\",key).decode('utf-8')\n",
    "client_id = decrypt_openssl_aes256cbc_b64(\"U2FsdGVkX1/WOCYB92XZPBNAJR4bkKx7UzSwlMyfBBde4j2c8trc8nVkCiaQCDMGLMS7RVrN8HZ9KHypDRWxGg==\",key).decode('utf-8')\n",
    "secret_id = decrypt_openssl_aes256cbc_b64(\"U2FsdGVkX1/njd4MUV76e6FwSG7uBckeVh509i9ujV1wGLYQ3I3YIh2ivbuOJR7wT0Q8gdOYmvcEP/nGmRT7jzEKvUPBHYaT1RrQWgiMGj3kBQonoMQjb8yC0hKdIyAN\",key).decode('utf-8')\n",
    "device_url = decrypt_openssl_aes256cbc_b64(\"U2FsdGVkX18JFe4wsQCi3Fj343EwYHpT7vpXXbpPHfBN4pERQ/Ygk1N2IDBf0pmuqUreCMkqQAwcbNqqE43BwlLh5aND5RE0lqRjfYqE4ns=\",key).decode('utf-8')\n",
    "token_url = decrypt_openssl_aes256cbc_b64(\"U2FsdGVkX1/mI/fSgyUkYfO4DegvF/eKc0lT+kT4DcfKhzuJtXue5N6ZgQb1ZHYm9+CSLul9WNStgqFT1cetPdS7D0uusNioEpA3XI9ugrw=\",key).decode('utf-8')"
   ]
  },
  {
   "cell_type": "code",
   "execution_count": null,
   "id": "b5205ce1-7a2b-4957-96c6-7f9904eb4af0",
   "metadata": {},
   "outputs": [],
   "source": [
    "bsso_token = get_token(\"uat\", client_id, secret_id, device_url, token_url)"
   ]
  },
  {
   "cell_type": "code",
   "execution_count": null,
   "id": "d268e2a6-f7e8-4396-93c8-e685d9ab2836",
   "metadata": {},
   "outputs": [],
   "source": [
    "# Create a connection to Trino\n",
    "conn = connect(\n",
    "    auth=JWTAuthentication(bsso_token),\n",
    "    http_scheme=\"https\",\n",
    "    host=url,\n",
    "    port=443\n",
    ")"
   ]
  },
  {
   "cell_type": "code",
   "execution_count": null,
   "id": "6fff38e1-8eaa-40f3-b541-3719e5812de2",
   "metadata": {},
   "outputs": [],
   "source": [
    "sql='show catalogs'"
   ]
  },
  {
   "cell_type": "code",
   "execution_count": null,
   "id": "4f95748d-d141-436c-9213-b65ffdc1276c",
   "metadata": {},
   "outputs": [],
   "source": [
    "cur = conn.cursor()\n",
    "cur.execute(sql)\n",
    "rows = cur.fetchall()\n",
    "\n",
    "df = pd.DataFrame(\n",
    "    data=rows, columns=[detail[0] for detail in cur.description]\n",
    ")"
   ]
  },
  {
   "cell_type": "code",
   "execution_count": null,
   "id": "3f6b2486-9772-4a67-8b88-8a2b6954f5aa",
   "metadata": {},
   "outputs": [],
   "source": [
    "df"
   ]
  },
  {
   "cell_type": "code",
   "execution_count": null,
   "id": "e12345b5-bdce-4f31-bda4-b6537b7e7ddb",
   "metadata": {},
   "outputs": [],
   "source": []
  }
 ],
 "metadata": {
  "kernelspec": {
   "display_name": "Python 3 (ipykernel)",
   "language": "python",
   "name": "python3"
  },
  "language_info": {
   "codemirror_mode": {
    "name": "ipython",
    "version": 3
   },
   "file_extension": ".py",
   "mimetype": "text/x-python",
   "name": "python",
   "nbconvert_exporter": "python",
   "pygments_lexer": "ipython3",
   "version": "3.11.0rc1"
  }
 },
 "nbformat": 4,
 "nbformat_minor": 5
}
